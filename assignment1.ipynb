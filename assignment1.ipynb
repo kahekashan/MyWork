{
  "cells": [
    {
      "cell_type": "code",
      "execution_count": null,
      "id": "90026b1e",
      "metadata": {
        "id": "90026b1e",
        "outputId": "dcd117a3-013f-45f1-cae6-bcf36fe87557"
      },
      "outputs": [
        {
          "name": "stdout",
          "output_type": "stream",
          "text": [
            "1505\n",
            "1540\n",
            "1575\n",
            "1610\n",
            "1645\n",
            "1680\n",
            "1715\n",
            "1750\n",
            "1785\n",
            "1820\n",
            "1855\n",
            "1890\n",
            "1925\n",
            "1960\n",
            "1995\n",
            "2030\n",
            "2065\n",
            "2100\n",
            "2135\n",
            "2170\n",
            "2205\n",
            "2240\n",
            "2275\n",
            "2310\n",
            "2345\n",
            "2380\n",
            "2415\n",
            "2450\n",
            "2485\n",
            "2520\n",
            "2555\n",
            "2590\n",
            "2625\n",
            "2660\n",
            "2695\n"
          ]
        }
      ],
      "source": [
        "for x in range(1500,2701):\n",
        "    if (x%7==0 and x%5==0):\n",
        "        print(x)"
      ]
    },
    {
      "cell_type": "code",
      "execution_count": null,
      "id": "5b0784fd",
      "metadata": {
        "id": "5b0784fd",
        "outputId": "6cc8af39-fc14-41ca-81a3-2d48a9ffc137"
      },
      "outputs": [
        {
          "name": "stdout",
          "output_type": "stream",
          "text": [
            "Enter temperature in celsius: 37\n",
            "Enter temperature in fahrenheit:99\n",
            "\n",
            "37.0  deg Celcius is:  98.6  Fahrenheit\n",
            "99.0  deg Fahrenheit is:  37.22222222222222  Celcius\n"
          ]
        }
      ],
      "source": [
        "celsius_input = float(input(\"Enter temperature in celsius: \"))\n",
        "fahrenheit_input = float(input(\"Enter temperature in fahrenheit:\"))\n",
        "print(\"\")\n",
        "fahrenheit = (celsius_input * 9/5) + 32\n",
        "celsius = (fahrenheit_input - 32) * 5/9\n",
        "print(celsius_input,\" deg Celcius is: \" , fahrenheit,\" Fahrenheit\")\n",
        "print(fahrenheit_input,\" deg Fahrenheit is: \" , celsius,\" Celcius\")\n",
        "#print('%.2f Fahrenheit is: %0.2f Celsius' %(fahrenheit, celsius))"
      ]
    },
    {
      "cell_type": "code",
      "execution_count": null,
      "id": "077a4bba",
      "metadata": {
        "id": "077a4bba",
        "outputId": "edba829d-7c83-4fb5-d5d6-55e38eb881e7"
      },
      "outputs": [
        {
          "name": "stdout",
          "output_type": "stream",
          "text": [
            "\n",
            "* \n",
            "* * \n",
            "* * * \n",
            "* * * * \n",
            "* * * * * \n",
            "* * * * \n",
            "* * * \n",
            "* * \n",
            "* \n"
          ]
        }
      ],
      "source": [
        "n=5;\n",
        "for i in range(n):\n",
        "    for j in range(i):\n",
        "        print ('* ', end=\"\")\n",
        "    print('')\n",
        "\n",
        "for i in range(n,0,-1):\n",
        "    for j in range(i):\n",
        "        print('* ', end=\"\")\n",
        "    print('')"
      ]
    },
    {
      "cell_type": "code",
      "execution_count": null,
      "id": "ce7f0c79",
      "metadata": {
        "id": "ce7f0c79",
        "outputId": "3ea16429-c1bd-463c-c925-836463c526c9"
      },
      "outputs": [
        {
          "name": "stdout",
          "output_type": "stream",
          "text": [
            "Player 1, Enter rock/paper/scissors: rock\n",
            "Player 2, Enter rock/paper/scissors: paper\n",
            "Player 2 wins!\n"
          ]
        }
      ],
      "source": [
        "\n",
        "player1_choice = input(\"Player 1, Enter rock/paper/scissors: \")\n",
        "player2_choice = input(\"Player 2, Enter rock/paper/scissors: \")\n",
        "\n",
        "list = [\"rock\", \"paper\", \"scissors\"]\n",
        "\n",
        "while player1_choice not in list or player2_choice not in list:\n",
        "    print (\"Invalid input. Please give a valid input.\")\n",
        "    player_1 = input(\"Player 1, Enter rock/paper/scissors: \")\n",
        "    player_2 = input(\"Player 2, Enter rock/paper/scissors: \")\n",
        "\n",
        "while player1_choice == player2_choice:\n",
        "    print (\"DRAW\")\n",
        "    player_1 = input(\"Player 1, Enter rock/paper/scissors: \")\n",
        "    player_2 = input(\"Player 2, Enter rock/paper/scissors: \")\n",
        "\n",
        "if player1_choice == \"rock\" and player2_choice == \"paper\":\n",
        "    print (\"Player 2 wins!\")\n",
        "\n",
        "elif player1_choice == \"paper\" and player2_choice == \"rock\":\n",
        "    print (\"Player 1 wins!\")\n",
        "\n",
        "elif player1_choice == \"rock\" and player2_choice == \"scissors\":\n",
        "    print (\"Player 1 wins!\")\n",
        "\n",
        "elif player1_choice == \"scissors\" and player2 == \"rock\":\n",
        "    print (\"Player 2 wins\")\n",
        "\n",
        "elif player1_choice == \"paper\" and player2_choice == \"scissors\":\n",
        "    print (\"Player 2 wins!\")\n",
        "\n",
        "elif player1_choice == \"scissors\" and player2_choice == \"paper\":\n",
        "    print (\"Player 1 wins!\")\n",
        "\n"
      ]
    },
    {
      "cell_type": "code",
      "execution_count": null,
      "id": "3763123a",
      "metadata": {
        "id": "3763123a"
      },
      "outputs": [],
      "source": [
        "def tri_recursion(k):\n",
        "    \n",
        "    if(k > 0):\n",
        "        result = k + tri_recursion(k - 1)\n",
        "        print(result)\n",
        "    else:\n",
        "     result = 0\n",
        "    \n",
        "    return result\n",
        "    print(\"\\n\\nRecursion Example Results\")\n",
        "    tri_recursion(6)"
      ]
    },
    {
      "cell_type": "code",
      "execution_count": null,
      "id": "8586856d",
      "metadata": {
        "id": "8586856d"
      },
      "outputs": [],
      "source": [
        ""
      ]
    }
  ],
  "metadata": {
    "kernelspec": {
      "display_name": "Python 3",
      "language": "python",
      "name": "python3"
    },
    "language_info": {
      "codemirror_mode": {
        "name": "ipython",
        "version": 3
      },
      "file_extension": ".py",
      "mimetype": "text/x-python",
      "name": "python",
      "nbconvert_exporter": "python",
      "pygments_lexer": "ipython3",
      "version": "3.9.1"
    },
    "colab": {
      "name": "assignment1.ipynb",
      "provenance": []
    }
  },
  "nbformat": 4,
  "nbformat_minor": 5
}